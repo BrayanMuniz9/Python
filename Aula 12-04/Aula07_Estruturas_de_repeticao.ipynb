{
  "cells": [
    {
      "cell_type": "markdown",
      "metadata": {
        "id": "wYGh8jNwBkC5"
      },
      "source": [
        "# <font size='14'>Programação de Computadores</font>\n",
        "\n",
        "<h1> Aula 06: Estruturas de repetição</h1>\n",
        "\n",
        "> Pressione as teclas <b>SHIFT</b> e <b>ENTER</b> para executar o código em uma célula ou pressione o botão Play"
      ]
    },
    {
      "cell_type": "markdown",
      "metadata": {
        "id": "iA9UAzcx_K_C"
      },
      "source": [
        "##Laço contado: for"
      ]
    },
    {
      "cell_type": "markdown",
      "metadata": {
        "id": "-6_fQLFYE_Gd"
      },
      "source": [
        "Diferentemente de outras linguagens de programação, o for do Python itera sobre itens de uma sequência (lista ou String) na ordem que aparecem."
      ]
    },
    {
      "cell_type": "code",
      "execution_count": 1,
      "metadata": {
        "id": "yHQqpNvOFTYF"
      },
      "outputs": [
        {
          "name": "stdout",
          "output_type": "stream",
          "text": [
            "gato\n",
            "cachorro\n",
            "leão\n",
            "camelo\n",
            "macaco\n"
          ]
        }
      ],
      "source": [
        "#Exemplo simples do comando for\n",
        "animais = ['gato', 'cachorro', 'leão', 'camelo', 'macaco']\n",
        "for animal in animais:\n",
        "  print(animal)"
      ]
    },
    {
      "cell_type": "code",
      "execution_count": 2,
      "metadata": {
        "id": "5t5Yh9kRFiJL"
      },
      "outputs": [
        {
          "name": "stdout",
          "output_type": "stream",
          "text": [
            "0\n",
            "1\n",
            "2\n",
            "3\n",
            "4\n",
            "5\n"
          ]
        }
      ],
      "source": [
        "sequencia = [0, 1, 2, 3, 4, 5]\n",
        "for num in sequencia:\n",
        "  print(num)"
      ]
    },
    {
      "cell_type": "code",
      "execution_count": null,
      "metadata": {
        "id": "ge72RJtWmxaY"
      },
      "outputs": [],
      "source": [
        "nome = input('Digite o seu nome: ')\n",
        "for n in nome:\n",
        "  print(n)"
      ]
    },
    {
      "cell_type": "code",
      "execution_count": null,
      "metadata": {
        "id": "74A8d-HYEBUd"
      },
      "outputs": [],
      "source": [
        "nome = 'aline'\n",
        "for letra in nome:\n",
        "  print(letra)"
      ]
    },
    {
      "cell_type": "code",
      "execution_count": null,
      "metadata": {
        "id": "VBor28CAJ-Qi"
      },
      "outputs": [],
      "source": [
        "for i in range(10):\n",
        "  print(i)"
      ]
    },
    {
      "cell_type": "markdown",
      "metadata": {
        "id": "p5T7feT78aGS"
      },
      "source": [
        "## A função range()"
      ]
    },
    {
      "cell_type": "code",
      "execution_count": 2,
      "metadata": {
        "id": "UReMx8nl_CSr"
      },
      "outputs": [
        {
          "name": "stdout",
          "output_type": "stream",
          "text": [
            "3 - 4 - 5 - 6 - 7 - 8 - 9 - "
          ]
        }
      ],
      "source": [
        "for i in range(3, 10):\n",
        "  print(i, end=' - ')"
      ]
    },
    {
      "cell_type": "code",
      "execution_count": 1,
      "metadata": {
        "id": "o5TOc0VwjPMN"
      },
      "outputs": [
        {
          "name": "stdout",
          "output_type": "stream",
          "text": [
            "0 5 10 15 20 25 30 35 40 45 50 "
          ]
        }
      ],
      "source": [
        "for i in range(0,51,5):\n",
        "  print(i, end = ' ')"
      ]
    },
    {
      "cell_type": "code",
      "execution_count": null,
      "metadata": {
        "id": "EgtJYnBBjXNO"
      },
      "outputs": [],
      "source": [
        "for i in range(0, 21, 2):\n",
        "  print(i, end='*')"
      ]
    },
    {
      "cell_type": "code",
      "execution_count": null,
      "metadata": {
        "id": "pcqtmiiTAkfz"
      },
      "outputs": [],
      "source": [
        "animais = ['gato', 'cachorro', 'leão', 'camelo']\n",
        "for a in animais:\n",
        "  print(a)"
      ]
    },
    {
      "cell_type": "code",
      "execution_count": null,
      "metadata": {
        "id": "jd_VwHcRAv4E"
      },
      "outputs": [],
      "source": [
        "sequencia = [0, 1, 2, 3, 4]\n",
        "for n in sequencia:\n",
        "  print(n)"
      ]
    },
    {
      "cell_type": "code",
      "execution_count": null,
      "metadata": {
        "id": "ELQpfmY-Acxn"
      },
      "outputs": [],
      "source": [
        "nome = 'aline'\n",
        "for letra in nome:\n",
        "  print(letra)"
      ]
    },
    {
      "cell_type": "markdown",
      "metadata": {
        "id": "jj99S8V7wF87"
      },
      "source": [
        "# Laço condicional: while"
      ]
    },
    {
      "cell_type": "code",
      "execution_count": null,
      "metadata": {
        "id": "y1Le3cjswFb-"
      },
      "outputs": [],
      "source": [
        "contador = 0\n",
        "while True:\n",
        "  contador += 1\n",
        "  resp = input('Deseja continuar (s|n)? ')\n",
        "  if resp in 'nN':\n",
        "    break\n",
        "  \n",
        "print(f'Você contou {contador} vezes')"
      ]
    },
    {
      "cell_type": "markdown",
      "metadata": {
        "id": "4FtzYw5K_pj0"
      },
      "source": [
        "## O comando continue"
      ]
    },
    {
      "cell_type": "markdown",
      "metadata": {
        "id": "XDD_FtDwGJeg"
      },
      "source": [
        "*   O comando **continue** pode ser usado para ignorar os comandos e executar a próxima iteração."
      ]
    },
    {
      "cell_type": "code",
      "execution_count": null,
      "metadata": {
        "id": "MGQEJf_MGjIZ"
      },
      "outputs": [],
      "source": [
        "numeros = [0, 1, 2, 3, 4, 5, 6]\n",
        "for num in numeros:\n",
        "  if num%2!=0:\n",
        "    continue\n",
        "  else:\n",
        "    print(num)"
      ]
    },
    {
      "cell_type": "code",
      "execution_count": null,
      "metadata": {
        "id": "I_JHGn9c_x1u"
      },
      "outputs": [],
      "source": [
        "animais = ['gato', 'cachorro', 'leão', 'camelo', 'macaco']\n",
        "for animal in animais:\n",
        "  if animal == 'leão':\n",
        "    continue\n",
        "  print(animal)"
      ]
    },
    {
      "cell_type": "markdown",
      "metadata": {
        "id": "CPiYsZdf_4hF"
      },
      "source": [
        "## O comando break"
      ]
    },
    {
      "cell_type": "markdown",
      "metadata": {
        "id": "doqQ3D_786PC"
      },
      "source": [
        "*   O comando **break** permite sair (quebrar) do ciclo mais interno a qualquer momento.\n",
        "\n"
      ]
    },
    {
      "cell_type": "code",
      "execution_count": null,
      "metadata": {
        "id": "tyqjw2yw_8S6"
      },
      "outputs": [],
      "source": [
        "for i in range(10):\n",
        "  if i > 5:\n",
        "    break\n",
        "  print(i)"
      ]
    },
    {
      "cell_type": "code",
      "execution_count": null,
      "metadata": {
        "id": "DXyQQbpsIQ2t"
      },
      "outputs": [],
      "source": [
        "animais = ['gato', 'cachorro', 'leão', 'camelo', 'macaco']\n",
        "for animal in animais:\n",
        "  if animal == 'leão':\n",
        "    break\n",
        "  print(animal)\n"
      ]
    }
  ],
  "metadata": {
    "anaconda-cloud": {},
    "colab": {
      "provenance": [],
      "toc_visible": true
    },
    "kernelspec": {
      "display_name": "Python 3",
      "language": "python",
      "name": "python3"
    },
    "language_info": {
      "codemirror_mode": {
        "name": "ipython",
        "version": 3
      },
      "file_extension": ".py",
      "mimetype": "text/x-python",
      "name": "python",
      "nbconvert_exporter": "python",
      "pygments_lexer": "ipython3",
      "version": "3.11.0"
    },
    "vscode": {
      "interpreter": {
        "hash": "5238573367df39f7286bb46f9ff5f08f63a01a80960060ce41e3c79b190280fa"
      }
    }
  },
  "nbformat": 4,
  "nbformat_minor": 0
}
